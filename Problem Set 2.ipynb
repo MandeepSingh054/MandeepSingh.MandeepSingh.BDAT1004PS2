{
 "cells": [
  {
   "cell_type": "markdown",
   "id": "075a80ee",
   "metadata": {},
   "source": [
    "# Problem Set #2 \n"
   ]
  },
  {
   "cell_type": "markdown",
   "id": "2756d350",
   "metadata": {},
   "source": [
    "# Question1 "
   ]
  },
  {
   "cell_type": "code",
   "execution_count": 1,
   "id": "fa0faec8",
   "metadata": {},
   "outputs": [],
   "source": [
    "a = 0\n",
    "def b():\n",
    "    global a\n",
    "    a = c(a)\n",
    "def c(a):\n",
    "    return a + 2"
   ]
  },
  {
   "cell_type": "code",
   "execution_count": 2,
   "id": "b099edde",
   "metadata": {},
   "outputs": [],
   "source": [
    "# Step 1 "
   ]
  },
  {
   "cell_type": "code",
   "execution_count": 3,
   "id": "52c4602c",
   "metadata": {},
   "outputs": [],
   "source": [
    "b()"
   ]
  },
  {
   "cell_type": "code",
   "execution_count": 4,
   "id": "d1205d92",
   "metadata": {},
   "outputs": [],
   "source": [
    "# In this step , function \"b()\" is called which is importing the global reference of variable a  and calling the function \"c()\"\""
   ]
  },
  {
   "cell_type": "code",
   "execution_count": 5,
   "id": "a7a0393d",
   "metadata": {},
   "outputs": [],
   "source": [
    "# when function \"c()\" is executed , it has increment the value of variable a from 0 to 2 which is then stored in global variable a\n"
   ]
  },
  {
   "cell_type": "code",
   "execution_count": 6,
   "id": "f4b87def",
   "metadata": {},
   "outputs": [],
   "source": [
    "b()"
   ]
  },
  {
   "cell_type": "code",
   "execution_count": 7,
   "id": "5758507f",
   "metadata": {},
   "outputs": [],
   "source": [
    "# the above steps are repeated again , Now the value of a(global variable) is increased from 2 to 4"
   ]
  },
  {
   "cell_type": "code",
   "execution_count": 8,
   "id": "e231ae63",
   "metadata": {},
   "outputs": [],
   "source": [
    "b()"
   ]
  },
  {
   "cell_type": "code",
   "execution_count": 9,
   "id": "faf431df",
   "metadata": {},
   "outputs": [],
   "source": [
    "# the above steps are repeated again , Now the value of a(global variable) is increased from 4 to 6"
   ]
  },
  {
   "cell_type": "code",
   "execution_count": 10,
   "id": "4a27d5bf",
   "metadata": {},
   "outputs": [
    {
     "name": "stdout",
     "output_type": "stream",
     "text": [
      "6\n"
     ]
    }
   ],
   "source": [
    "print(a)"
   ]
  },
  {
   "cell_type": "markdown",
   "id": "022a4b99",
   "metadata": {},
   "source": [
    "# Question 2"
   ]
  },
  {
   "cell_type": "code",
   "execution_count": 13,
   "id": "8219ab3b",
   "metadata": {},
   "outputs": [],
   "source": [
    "def file_length(file_name):\n",
    "    try:\n",
    "        file = open(file_name)\n",
    "        contents = file.read()\n",
    "        file.close()\n",
    "        print(len(contents))\n",
    "    except:\n",
    "        print('File ' + file_name +' not found')"
   ]
  },
  {
   "cell_type": "code",
   "execution_count": 14,
   "id": "45fd89ea",
   "metadata": {},
   "outputs": [
    {
     "name": "stdout",
     "output_type": "stream",
     "text": [
      "48\n"
     ]
    }
   ],
   "source": [
    "file_length('test.txt')"
   ]
  },
  {
   "cell_type": "markdown",
   "id": "b465dc7b",
   "metadata": {},
   "source": [
    "# Question 3"
   ]
  },
  {
   "cell_type": "code",
   "execution_count": 15,
   "id": "d61e78d1",
   "metadata": {},
   "outputs": [],
   "source": [
    "class Marsupial(object):\n",
    "    def __init__(self):\n",
    "        self.queue = []\n",
    "\n",
    "    def put_in_pouch(self, data):\n",
    "        self.queue.append(data)\n",
    "        \n",
    "    def pouch_contents(self):\n",
    "        print(self.queue)\n",
    "\n",
    "\n",
    "if __name__ == '__main__':\n",
    "    m = Marsupial()\n",
    "    m.put_in_pouch('doll')\n",
    "    m.put_in_pouch('firetruck')\n",
    "    m.put_in_pouch('kitten')"
   ]
  },
  {
   "cell_type": "code",
   "execution_count": 16,
   "id": "f24d30b3",
   "metadata": {},
   "outputs": [
    {
     "name": "stdout",
     "output_type": "stream",
     "text": [
      "['doll', 'firetruck', 'kitten']\n"
     ]
    }
   ],
   "source": [
    "m.pouch_contents()"
   ]
  },
  {
   "cell_type": "code",
   "execution_count": 17,
   "id": "d6598d06",
   "metadata": {},
   "outputs": [],
   "source": [
    "class Kangaroo(Marsupial):\n",
    "    'defining class Kangaroo which is child class of Marsupial'\n",
    "    \n",
    "    def __init__(self, xcoord=0, ycoord=0):\n",
    "        'initialize coordinates to (xcoord, ycoord)'\n",
    "        self.queue = []\n",
    "        self.x = xcoord\n",
    "        self.y = ycoord\n",
    "        \n",
    "    def __str__(self):    \n",
    "        return 'I am a Kangaroo located at coordinates ({}, {})'.format(self.x, self.y)\n",
    "    \n",
    "    def jump(self, dx, dy):\n",
    "        'change the x and y coordinates by dx and dy'\n",
    "        self.x += dx\n",
    "        self.y += dy"
   ]
  },
  {
   "cell_type": "code",
   "execution_count": 18,
   "id": "8589c5f7",
   "metadata": {},
   "outputs": [],
   "source": [
    "k = Kangaroo(0,0)"
   ]
  },
  {
   "cell_type": "code",
   "execution_count": 19,
   "id": "4c4d2c63",
   "metadata": {},
   "outputs": [
    {
     "name": "stdout",
     "output_type": "stream",
     "text": [
      "I am a Kangaroo located at coordinates (0, 0)\n"
     ]
    }
   ],
   "source": [
    "print(k)"
   ]
  },
  {
   "cell_type": "code",
   "execution_count": 20,
   "id": "b1569bae",
   "metadata": {},
   "outputs": [
    {
     "name": "stdout",
     "output_type": "stream",
     "text": [
      "['doll', 'firetruck', 'kitten']\n"
     ]
    }
   ],
   "source": [
    "k.put_in_pouch('doll')\n",
    "k.put_in_pouch('firetruck') \n",
    "k.put_in_pouch('kitten') \n",
    "k.pouch_contents()"
   ]
  },
  {
   "cell_type": "code",
   "execution_count": 21,
   "id": "26ae8d85",
   "metadata": {},
   "outputs": [
    {
     "name": "stdout",
     "output_type": "stream",
     "text": [
      "I am a Kangaroo located at coordinates (3, 0)\n"
     ]
    }
   ],
   "source": [
    "k.jump(1,0) \n",
    "k.jump(1,0) \n",
    "k.jump(1,0) \n",
    "print(k) "
   ]
  },
  {
   "cell_type": "markdown",
   "id": "568662e5",
   "metadata": {},
   "source": [
    "# Question 4"
   ]
  },
  {
   "cell_type": "code",
   "execution_count": 22,
   "id": "922b4d8e",
   "metadata": {},
   "outputs": [],
   "source": [
    "def collatz(n):\n",
    "    print(n)\n",
    "    if n <= 1:\n",
    "        return\n",
    "    if n%2 == 0:\n",
    "        collatz(n/2)\n",
    "    else:\n",
    "        collatz((3*n)+1)"
   ]
  },
  {
   "cell_type": "code",
   "execution_count": 23,
   "id": "7bae0ed2",
   "metadata": {},
   "outputs": [
    {
     "name": "stdout",
     "output_type": "stream",
     "text": [
      "1\n"
     ]
    }
   ],
   "source": [
    "collatz(1)"
   ]
  },
  {
   "cell_type": "code",
   "execution_count": 24,
   "id": "d11be397",
   "metadata": {},
   "outputs": [
    {
     "name": "stdout",
     "output_type": "stream",
     "text": [
      "10\n",
      "5.0\n",
      "16.0\n",
      "8.0\n",
      "4.0\n",
      "2.0\n",
      "1.0\n"
     ]
    }
   ],
   "source": [
    "collatz(10)"
   ]
  },
  {
   "cell_type": "markdown",
   "id": "9321797f",
   "metadata": {},
   "source": [
    "# Question 5"
   ]
  },
  {
   "cell_type": "code",
   "execution_count": 95,
   "id": "871f16f4",
   "metadata": {},
   "outputs": [],
   "source": [
    "def binary( n ):\n",
    "    if n == 0:\n",
    "        return 0\n",
    "    else:\n",
    "        return (n % 2 + 10 * binary(int(n // 2)))\n",
    "    "
   ]
  },
  {
   "cell_type": "code",
   "execution_count": 96,
   "id": "9306b83f",
   "metadata": {},
   "outputs": [
    {
     "data": {
      "text/plain": [
       "0"
      ]
     },
     "execution_count": 96,
     "metadata": {},
     "output_type": "execute_result"
    }
   ],
   "source": [
    "binary(0) \n"
   ]
  },
  {
   "cell_type": "code",
   "execution_count": 97,
   "id": "cea35a36",
   "metadata": {},
   "outputs": [
    {
     "data": {
      "text/plain": [
       "1"
      ]
     },
     "execution_count": 97,
     "metadata": {},
     "output_type": "execute_result"
    }
   ],
   "source": [
    "binary(1)"
   ]
  },
  {
   "cell_type": "code",
   "execution_count": 98,
   "id": "c9b225c5",
   "metadata": {},
   "outputs": [
    {
     "data": {
      "text/plain": [
       "11"
      ]
     },
     "execution_count": 98,
     "metadata": {},
     "output_type": "execute_result"
    }
   ],
   "source": [
    "binary(3)"
   ]
  },
  {
   "cell_type": "markdown",
   "id": "878b4ed8",
   "metadata": {},
   "source": [
    "# Question8\n"
   ]
  },
  {
   "cell_type": "code",
   "execution_count": 25,
   "id": "c8c218ee",
   "metadata": {},
   "outputs": [
    {
     "data": {
      "text/plain": [
       "<sqlite3.Cursor at 0x21dd5d8a5e0>"
      ]
     },
     "execution_count": 25,
     "metadata": {},
     "output_type": "execute_result"
    }
   ],
   "source": [
    "# Making connection with sqlite datatable and ctreating the datatable\n",
    "import sqlite3\n",
    "con = sqlite3.connect('climate_information.db')\n",
    "cur = con.cursor()\n",
    "cur.execute(\"CREATE TABLE season_info (city text, country text, season text,temperature real,rainfall real)\")"
   ]
  },
  {
   "cell_type": "code",
   "execution_count": 26,
   "id": "c602a0f9",
   "metadata": {},
   "outputs": [
    {
     "data": {
      "text/plain": [
       "<sqlite3.Cursor at 0x21dd5d8a5e0>"
      ]
     },
     "execution_count": 26,
     "metadata": {},
     "output_type": "execute_result"
    }
   ],
   "source": [
    "cur.execute('INSERT INTO  season_info VALUES (\"Mumbai\", \"India\", \"Winter\", 24.8,5.9)')"
   ]
  },
  {
   "cell_type": "code",
   "execution_count": 27,
   "id": "c1dff739",
   "metadata": {},
   "outputs": [],
   "source": [
    "# Inserting the data values into the table\n",
    " \n",
    "record_2 = (\"Mumbai\", \"India\", \"Spring\", 28.4, 16.2)\n",
    "record_3 = (\"Mumbai\", \"India\", \"Summer\", 27.9, 1549.4)\n",
    "record_4 = (\"Mumbai\", \"India\", \"Fall\", 27.6, 346.0)\n",
    "record_5 = (\"London\", \"United Kingdom\", \"Winter\", 4.2, 207.7)\n",
    "record_6 = (\"London\", \"United Kingdom\", \"Spring\", 8.3, 169.6)\n",
    "record_7 = (\"London\", \"United Kingdom\", \"Summer\", 15.7, 157.0)\n",
    "record_8 = (\"London\", \"United Kingdom\", \"Fall\", 10.4, 218.5)\n",
    "record_9 = (\"Cairo\", \"Egypt\", \"Winter\", 13.6, 16.5)\n",
    "record_10 = (\"Cairo\", \"Egypt\", \"Spring\", 20.7, 6.5)\n",
    "record_11 = (\"Cairo\", \"Egypt\", \"Summer\", 27.7, 0.1)\n",
    "record_12 = (\"Cairo\", \"Egypt\", \"Fall\", 22.2, 4.5)"
   ]
  },
  {
   "cell_type": "code",
   "execution_count": 28,
   "id": "69694045",
   "metadata": {},
   "outputs": [
    {
     "data": {
      "text/plain": [
       "<sqlite3.Cursor at 0x21dd5d8a5e0>"
      ]
     },
     "execution_count": 28,
     "metadata": {},
     "output_type": "execute_result"
    }
   ],
   "source": [
    "cur.execute(\"INSERT INTO season_info VALUES (?, ?, ?, ?, ?)\", record_2)\n",
    "cur.execute(\"INSERT INTO season_info VALUES (?, ?, ?, ?, ?)\", record_3)\n",
    "cur.execute(\"INSERT INTO season_info VALUES (?, ?, ?, ?, ?)\", record_4)\n",
    "cur.execute(\"INSERT INTO season_info VALUES (?, ?, ?, ?, ?)\", record_5)\n",
    "cur.execute(\"INSERT INTO season_info VALUES (?, ?, ?, ?, ?)\", record_6)\n",
    "cur.execute(\"INSERT INTO season_info VALUES (?, ?, ?, ?, ?)\", record_7)\n",
    "cur.execute(\"INSERT INTO season_info VALUES (?, ?, ?, ?, ?)\", record_8)\n",
    "cur.execute(\"INSERT INTO season_info VALUES (?, ?, ?, ?, ?)\", record_9)\n",
    "cur.execute(\"INSERT INTO season_info VALUES (?, ?, ?, ?, ?)\", record_10)\n",
    "cur.execute(\"INSERT INTO season_info VALUES (?, ?, ?, ?, ?)\", record_11)\n",
    "cur.execute(\"INSERT INTO season_info VALUES (?, ?, ?, ?, ?)\", record_12)"
   ]
  },
  {
   "cell_type": "code",
   "execution_count": 29,
   "id": "3c60919b",
   "metadata": {},
   "outputs": [],
   "source": [
    "#Write SQL queries on the below database table that return:"
   ]
  },
  {
   "cell_type": "code",
   "execution_count": 31,
   "id": "70033be6",
   "metadata": {},
   "outputs": [
    {
     "data": {
      "text/plain": [
       "[('Mumbai', 'India', 'Winter', 24.8, 5.9),\n",
       " ('Mumbai', 'India', 'Spring', 28.4, 16.2),\n",
       " ('Mumbai', 'India', 'Summer', 27.9, 1549.4),\n",
       " ('Mumbai', 'India', 'Fall', 27.6, 346.0),\n",
       " ('London', 'United Kingdom', 'Winter', 4.2, 207.7),\n",
       " ('London', 'United Kingdom', 'Spring', 8.3, 169.6),\n",
       " ('London', 'United Kingdom', 'Summer', 15.7, 157.0),\n",
       " ('London', 'United Kingdom', 'Fall', 10.4, 218.5),\n",
       " ('Cairo', 'Egypt', 'Winter', 13.6, 16.5),\n",
       " ('Cairo', 'Egypt', 'Spring', 20.7, 6.5),\n",
       " ('Cairo', 'Egypt', 'Summer', 27.7, 0.1),\n",
       " ('Cairo', 'Egypt', 'Fall', 22.2, 4.5)]"
      ]
     },
     "execution_count": 31,
     "metadata": {},
     "output_type": "execute_result"
    }
   ],
   "source": [
    "cur.execute(\"SELECT *FROM season_info\")\n",
    "cur.fetchall()"
   ]
  },
  {
   "cell_type": "code",
   "execution_count": 32,
   "id": "afb0b380",
   "metadata": {},
   "outputs": [
    {
     "data": {
      "text/plain": [
       "[(24.8,),\n",
       " (28.4,),\n",
       " (27.9,),\n",
       " (27.6,),\n",
       " (4.2,),\n",
       " (8.3,),\n",
       " (15.7,),\n",
       " (10.4,),\n",
       " (13.6,),\n",
       " (20.7,),\n",
       " (27.7,),\n",
       " (22.2,)]"
      ]
     },
     "execution_count": 32,
     "metadata": {},
     "output_type": "execute_result"
    }
   ],
   "source": [
    "# All the temperature data.\n",
    "cur.execute(\"SELECT temperature FROM season_info\")\n",
    "cur.fetchall()"
   ]
  },
  {
   "cell_type": "code",
   "execution_count": 33,
   "id": "d7527621",
   "metadata": {},
   "outputs": [
    {
     "data": {
      "text/plain": [
       "[('Mumbai',), ('London',), ('Cairo',)]"
      ]
     },
     "execution_count": 33,
     "metadata": {},
     "output_type": "execute_result"
    }
   ],
   "source": [
    "#All the cities, but without repetition.\n",
    "cur.execute(\"SELECT distinct(city) FROM season_info\")\n",
    "cur.fetchall()"
   ]
  },
  {
   "cell_type": "code",
   "execution_count": 34,
   "id": "de5926d0",
   "metadata": {},
   "outputs": [
    {
     "data": {
      "text/plain": [
       "[('Mumbai', 'India', 'Winter', 24.8, 5.9),\n",
       " ('Mumbai', 'India', 'Spring', 28.4, 16.2),\n",
       " ('Mumbai', 'India', 'Summer', 27.9, 1549.4),\n",
       " ('Mumbai', 'India', 'Fall', 27.6, 346.0)]"
      ]
     },
     "execution_count": 34,
     "metadata": {},
     "output_type": "execute_result"
    }
   ],
   "source": [
    "# All the records for India.\n",
    "cur.execute(\"SELECT * FROM season_info where country = 'India'\")\n",
    "cur.fetchall()"
   ]
  },
  {
   "cell_type": "code",
   "execution_count": 35,
   "id": "2016de60",
   "metadata": {},
   "outputs": [
    {
     "data": {
      "text/plain": [
       "[('Mumbai', 'India', 'Fall', 27.6, 346.0),\n",
       " ('London', 'United Kingdom', 'Fall', 10.4, 218.5),\n",
       " ('Cairo', 'Egypt', 'Fall', 22.2, 4.5)]"
      ]
     },
     "execution_count": 35,
     "metadata": {},
     "output_type": "execute_result"
    }
   ],
   "source": [
    "#All the Fall records.\n",
    "cur.execute(\"SELECT * FROM season_info where season = 'Fall'\")\n",
    "cur.fetchall()"
   ]
  },
  {
   "cell_type": "code",
   "execution_count": 36,
   "id": "034f8b63",
   "metadata": {},
   "outputs": [
    {
     "data": {
      "text/plain": [
       "[('London', 'United Kingdom', 'Fall', 218.5),\n",
       " ('London', 'United Kingdom', 'Winter', 207.7),\n",
       " ('Mumbai', 'India', 'Fall', 346.0)]"
      ]
     },
     "execution_count": 36,
     "metadata": {},
     "output_type": "execute_result"
    }
   ],
   "source": [
    "#The city, country, and season for which the average rainfall is between 200 and 400 millimeters.\n",
    "cur.execute(\"SELECT city, country, season,avg(rainfall) FROM season_info group by city, country, season having avg(rainfall) BETWEEN 200 and 400\")\n",
    "cur.fetchall()"
   ]
  },
  {
   "cell_type": "code",
   "execution_count": 37,
   "id": "ca0ceb09",
   "metadata": {},
   "outputs": [
    {
     "data": {
      "text/plain": [
       "[('Cairo', 'Egypt'), ('Mumbai', 'India')]"
      ]
     },
     "execution_count": 37,
     "metadata": {},
     "output_type": "execute_result"
    }
   ],
   "source": [
    "#The city and country for which the average Fall temperature is above 20 degrees, in increasing temperature order.\n",
    "cur.execute(\"SELECT city, country FROM season_info where season = 'Fall' group by city, country having avg(temperature) > 20\")\n",
    "cur.fetchall()"
   ]
  },
  {
   "cell_type": "code",
   "execution_count": 38,
   "id": "26070f90",
   "metadata": {},
   "outputs": [
    {
     "data": {
      "text/plain": [
       "[(27.6,)]"
      ]
     },
     "execution_count": 38,
     "metadata": {},
     "output_type": "execute_result"
    }
   ],
   "source": [
    "#The total annual rainfall for Cairo.\n",
    "cur.execute(\"SELECT sum(rainfall) FROM season_info where city = 'Cairo'\")\n",
    "cur.fetchall()"
   ]
  },
  {
   "cell_type": "code",
   "execution_count": 39,
   "id": "4e4a394b",
   "metadata": {},
   "outputs": [
    {
     "data": {
      "text/plain": [
       "[('Fall', 569.0),\n",
       " ('Spring', 192.29999999999998),\n",
       " ('Summer', 1706.5),\n",
       " ('Winter', 230.1)]"
      ]
     },
     "execution_count": 39,
     "metadata": {},
     "output_type": "execute_result"
    }
   ],
   "source": [
    "#The total rainfall for each season.\n",
    "cur.execute(\"SELECT season,sum(rainfall) FROM season_info group by season\")\n",
    "cur.fetchall()"
   ]
  },
  {
   "cell_type": "code",
   "execution_count": 40,
   "id": "ba2f3f6e",
   "metadata": {},
   "outputs": [],
   "source": [
    "con.commit()\n",
    "con.close()"
   ]
  },
  {
   "cell_type": "markdown",
   "id": "8bfdac5a",
   "metadata": {},
   "source": [
    "# Question 9"
   ]
  },
  {
   "cell_type": "code",
   "execution_count": 41,
   "id": "bc912cca",
   "metadata": {},
   "outputs": [],
   "source": [
    "words = ['The', 'quick', 'brown', 'fox', 'jumps', 'over', 'the', 'lazy', 'dog']"
   ]
  },
  {
   "cell_type": "code",
   "execution_count": 42,
   "id": "fc8816f2",
   "metadata": {},
   "outputs": [
    {
     "name": "stdout",
     "output_type": "stream",
     "text": [
      "['THE', 'QUICK', 'BROWN', 'FOX', 'JUMPS', 'OVER', 'THE', 'LAZY', 'DOG']\n"
     ]
    }
   ],
   "source": [
    "# a) Converting words to upper case\n",
    "words_upper_case= [word.upper() for word in words]\n",
    "print(words_upper_case)"
   ]
  },
  {
   "cell_type": "code",
   "execution_count": 43,
   "id": "e14bb052",
   "metadata": {},
   "outputs": [
    {
     "name": "stdout",
     "output_type": "stream",
     "text": [
      "['the', 'quick', 'brown', 'fox', 'jumps', 'over', 'the', 'lazy', 'dog']\n"
     ]
    }
   ],
   "source": [
    "# b) Converting words to lowe case\n",
    "words_lower_case= [word.lower() for word in words]\n",
    "print(words_lower_case)"
   ]
  },
  {
   "cell_type": "code",
   "execution_count": 44,
   "id": "eb261e7d",
   "metadata": {},
   "outputs": [
    {
     "name": "stdout",
     "output_type": "stream",
     "text": [
      "[3, 5, 5, 3, 5, 4, 3, 4, 3]\n"
     ]
    }
   ],
   "source": [
    "# c) the list of lengths of words in list words\n",
    "words_len_lst= [len(word) for word in words]\n",
    "print(words_len_lst)"
   ]
  },
  {
   "cell_type": "code",
   "execution_count": 45,
   "id": "35a602da",
   "metadata": {},
   "outputs": [],
   "source": [
    "# d) list containg the upper caser , lower case and length of word\n",
    "final_lst = []\n",
    "for word in words:\n",
    "    lst = []\n",
    "    lst.append(word.upper())   #converting each word to upper case \n",
    "    lst.append(word.lower())   #converting each word to lower case \n",
    "    lst.append(len(word))      #finding the length of word \n",
    "    final_lst.append(lst)      # appending the upper case , lowe case and length of each word to final list"
   ]
  },
  {
   "cell_type": "code",
   "execution_count": 46,
   "id": "c051819e",
   "metadata": {},
   "outputs": [
    {
     "name": "stdout",
     "output_type": "stream",
     "text": [
      "[['THE', 'the', 3], ['QUICK', 'quick', 5], ['BROWN', 'brown', 5], ['FOX', 'fox', 3], ['JUMPS', 'jumps', 5], ['OVER', 'over', 4], ['THE', 'the', 3], ['LAZY', 'lazy', 4], ['DOG', 'dog', 3]]\n"
     ]
    }
   ],
   "source": [
    "print(final_lst)"
   ]
  },
  {
   "cell_type": "code",
   "execution_count": 47,
   "id": "a6983e23",
   "metadata": {},
   "outputs": [
    {
     "name": "stdout",
     "output_type": "stream",
     "text": [
      "['quick', 'brown', 'jumps', 'over', 'lazy']\n"
     ]
    }
   ],
   "source": [
    "# e) list of words containing 4 or more characters\n",
    "final_list = []\n",
    "for word in words:\n",
    "    if len(word) >=4:\n",
    "        final_list.append(word)\n",
    "\n",
    "print(final_list)\n",
    "        \n",
    "        "
   ]
  },
  {
   "cell_type": "code",
   "execution_count": null,
   "id": "4271b3b5",
   "metadata": {},
   "outputs": [],
   "source": []
  },
  {
   "cell_type": "code",
   "execution_count": null,
   "id": "bd2f74c6",
   "metadata": {},
   "outputs": [],
   "source": []
  },
  {
   "cell_type": "code",
   "execution_count": null,
   "id": "ef9dcd39",
   "metadata": {},
   "outputs": [],
   "source": []
  },
  {
   "cell_type": "code",
   "execution_count": null,
   "id": "56eee856",
   "metadata": {},
   "outputs": [],
   "source": []
  }
 ],
 "metadata": {
  "kernelspec": {
   "display_name": "Python 3 (ipykernel)",
   "language": "python",
   "name": "python3"
  },
  "language_info": {
   "codemirror_mode": {
    "name": "ipython",
    "version": 3
   },
   "file_extension": ".py",
   "mimetype": "text/x-python",
   "name": "python",
   "nbconvert_exporter": "python",
   "pygments_lexer": "ipython3",
   "version": "3.9.7"
  }
 },
 "nbformat": 4,
 "nbformat_minor": 5
}
